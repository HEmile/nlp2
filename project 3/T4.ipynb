{
 "cells": [
  {
   "cell_type": "markdown",
   "metadata": {},
   "source": [
    "# Neural IBM1 - Task 4"
   ]
  },
  {
   "cell_type": "markdown",
   "metadata": {},
   "source": [
    "We implemented this model with a few specific choices. For computing the value of alfa and beta for the Kumaraswamy distribution, we combine $f_{j-1}$ and $f_j$ by concatenating their embeddings, in much the same way as in T2. Furthermore, as hinted in the tips, we clip the parameters for the Beta and Kumaraswamy distributions between $[0.001, \\infty]$, and made sure the KL was never negative by clipping it from below to 0. This seems to have solved the numerical issues we had before."
   ]
  },
  {
   "cell_type": "code",
   "execution_count": 1,
   "metadata": {
    "collapsed": false
   },
   "outputs": [
    {
     "name": "stdout",
     "output_type": "stream",
     "text": [
      "Populating the interactive namespace from numpy and matplotlib\n"
     ]
    }
   ],
   "source": [
    "#imports\n",
    "import tensorflow as tf\n",
    "import numpy as np\n",
    "from pprint import pprint\n",
    "import pickle\n",
    "from statstracker import StatsTracker\n",
    "%pylab inline\n",
    "from utils import smart_reader, bitext_reader, iterate_minibatches, prepare_data\n",
    "from vocabulary import OrderedCounter, Vocabulary"
   ]
  },
  {
   "cell_type": "code",
   "execution_count": 2,
   "metadata": {
    "collapsed": true
   },
   "outputs": [],
   "source": [
    "#Get vocab\n",
    "train_e_path = 'data/training/hansards.36.2.e.gz'\n",
    "train_f_path = 'data/training/hansards.36.2.f.gz'\n",
    "dev_e_path = 'data/validation/dev.e.gz'\n",
    "dev_f_path = 'data/validation/dev.f.gz'\n",
    "dev_wa = 'data/validation/dev.wa.nonullalign'\n",
    "test_e_path = 'data/test/test.e.gz'\n",
    "test_f_path = 'data/test/test.f.gz'\n",
    "test_wa = 'data/test/test.wa.nonullalign'\n",
    "\n",
    "max_tokens=1000\n",
    "\n",
    "corpus_e = smart_reader(train_e_path)\n",
    "vocabulary_e = Vocabulary(corpus=corpus_e, max_tokens=max_tokens)\n",
    "# pickle.dump(vocabulary_e, open(\"vocabulary_e.pkl\", mode=\"wb\"))\n",
    "\n",
    "corpus_f = smart_reader(train_f_path)\n",
    "vocabulary_f = Vocabulary(corpus=corpus_f, max_tokens=max_tokens)\n",
    "# pickle.dump(vocabulary_f, open(\"vocabulary_f.pkl\", mode=\"wb\"))\n",
    "\n",
    "test_corpus = list(bitext_reader(\n",
    "            smart_reader(test_e_path),\n",
    "            smart_reader(test_f_path)))"
   ]
  },
  {
   "cell_type": "code",
   "execution_count": 3,
   "metadata": {
    "collapsed": true
   },
   "outputs": [],
   "source": [
    "#Get model for Task 4\n",
    "from neuralibm1_T4 import NeuralIBM1Model_T4\n",
    "\n",
    "# check neuralibm1trainer.py for the Trainer code\n",
    "from neuralibm1trainer import NeuralIBM1Trainer_T2_gate"
   ]
  },
  {
   "cell_type": "code",
   "execution_count": 4,
   "metadata": {
    "collapsed": false
   },
   "outputs": [
    {
     "name": "stdout",
     "output_type": "stream",
     "text": [
      "Task 4\n",
      "Training with B=128 max_length=30 lr=0.001 lr_decay=0.0\n",
      "Initializing variables..\n",
      "Training started..\n",
      "Shuffling training data\n",
      "Iter   100 loss 54.649399 accuracy 0.18 lr 0.001000\n",
      "Iter   200 loss 49.608334 accuracy 0.23 lr 0.001000\n",
      "Iter   300 loss 47.978786 accuracy 0.25 lr 0.001000\n",
      "Iter   400 loss 38.489471 accuracy 0.31 lr 0.001000\n",
      "Iter   500 loss 44.124008 accuracy 0.31 lr 0.001000\n",
      "Iter   600 loss 46.326622 accuracy 0.28 lr 0.001000\n",
      "Iter   700 loss 40.346237 accuracy 0.30 lr 0.001000\n",
      "Iter   800 loss 45.798080 accuracy 0.27 lr 0.001000\n",
      "Iter   900 loss 44.732910 accuracy 0.27 lr 0.001000\n",
      "Iter  1000 loss 47.897877 accuracy 0.29 lr 0.001000\n",
      "Iter  1100 loss 39.542614 accuracy 0.30 lr 0.001000\n",
      "Iter  1200 loss 42.489090 accuracy 0.29 lr 0.001000\n",
      "Iter  1300 loss 39.811764 accuracy 0.30 lr 0.001000\n",
      "Epoch 1 loss 45.382687 accuracy 0.27 val_aer 0.99 val_acc 0.27\n",
      "Model saved in file: D:\\Userdata\\Sync\\universiteit\\MSc\\Jaar 1\\Natural Language Processing 2\\nlp2\\project 3\\model.ckpt\n",
      "Shuffling training data\n",
      "Iter   100 loss 36.907524 accuracy 0.30 lr 0.001000\n",
      "Iter   200 loss 34.315289 accuracy 0.31 lr 0.001000\n",
      "Iter   300 loss 38.766518 accuracy 0.31 lr 0.001000\n",
      "Iter   400 loss 39.395298 accuracy 0.30 lr 0.001000\n",
      "Iter   500 loss 38.468098 accuracy 0.31 lr 0.001000\n",
      "Iter   600 loss 41.192093 accuracy 0.31 lr 0.001000\n",
      "Iter   700 loss 45.227226 accuracy 0.31 lr 0.001000\n",
      "Iter   800 loss 41.724449 accuracy 0.30 lr 0.001000\n",
      "Iter   900 loss 43.494968 accuracy 0.30 lr 0.001000\n",
      "Iter  1000 loss 43.326534 accuracy 0.28 lr 0.001000\n",
      "Iter  1100 loss 42.451958 accuracy 0.30 lr 0.001000\n",
      "Iter  1200 loss 40.298946 accuracy 0.30 lr 0.001000\n",
      "Iter  1300 loss 39.278439 accuracy 0.30 lr 0.001000\n",
      "Epoch 2 loss 41.185714 accuracy 0.29 val_aer 0.99 val_acc 0.27\n",
      "Model saved in file: D:\\Userdata\\Sync\\universiteit\\MSc\\Jaar 1\\Natural Language Processing 2\\nlp2\\project 3\\model.ckpt\n",
      "Shuffling training data\n",
      "Iter   100 loss 34.658104 accuracy 0.30 lr 0.001000\n",
      "Iter   200 loss 39.207649 accuracy 0.31 lr 0.001000\n",
      "Iter   300 loss 44.580032 accuracy 0.27 lr 0.001000\n",
      "Iter   400 loss 35.895424 accuracy 0.31 lr 0.001000\n",
      "Iter   500 loss 43.747475 accuracy 0.28 lr 0.001000\n",
      "Iter   600 loss 40.885223 accuracy 0.30 lr 0.001000\n",
      "Iter   700 loss 41.388329 accuracy 0.29 lr 0.001000\n",
      "Iter   800 loss 41.047958 accuracy 0.29 lr 0.001000\n",
      "Iter   900 loss 42.293613 accuracy 0.29 lr 0.001000\n",
      "Iter  1000 loss 40.473152 accuracy 0.29 lr 0.001000\n",
      "Iter  1100 loss 44.110592 accuracy 0.30 lr 0.001000\n",
      "Iter  1200 loss 38.258270 accuracy 0.31 lr 0.001000\n",
      "Iter  1300 loss 43.129990 accuracy 0.28 lr 0.001000\n",
      "Epoch 3 loss 40.776981 accuracy 0.30 val_aer 0.97 val_acc 0.27\n",
      "Model saved in file: D:\\Userdata\\Sync\\universiteit\\MSc\\Jaar 1\\Natural Language Processing 2\\nlp2\\project 3\\model.ckpt\n",
      "Shuffling training data\n",
      "Iter   100 loss 38.519363 accuracy 0.28 lr 0.001000\n",
      "Iter   200 loss 43.021233 accuracy 0.27 lr 0.001000\n",
      "Iter   300 loss 37.592037 accuracy 0.28 lr 0.001000\n",
      "Iter   400 loss 42.357876 accuracy 0.30 lr 0.001000\n",
      "Iter   500 loss 45.215134 accuracy 0.29 lr 0.001000\n",
      "Iter   600 loss 39.210869 accuracy 0.29 lr 0.001000\n",
      "Iter   700 loss 39.886097 accuracy 0.30 lr 0.001000\n",
      "Iter   800 loss 43.884987 accuracy 0.29 lr 0.001000\n",
      "Iter   900 loss 38.989143 accuracy 0.29 lr 0.001000\n",
      "Iter  1000 loss 48.732445 accuracy 0.30 lr 0.001000\n",
      "Iter  1100 loss 43.846878 accuracy 0.29 lr 0.001000\n",
      "Iter  1200 loss 45.721508 accuracy 0.29 lr 0.001000\n",
      "Iter  1300 loss 42.903732 accuracy 0.28 lr 0.001000\n",
      "Epoch 4 loss 40.584230 accuracy 0.30 val_aer 0.97 val_acc 0.26\n",
      "Model saved in file: D:\\Userdata\\Sync\\universiteit\\MSc\\Jaar 1\\Natural Language Processing 2\\nlp2\\project 3\\model.ckpt\n",
      "Shuffling training data\n",
      "Iter   100 loss 41.445515 accuracy 0.28 lr 0.001000\n",
      "Iter   200 loss 47.407112 accuracy 0.28 lr 0.001000\n",
      "Iter   300 loss 40.497498 accuracy 0.31 lr 0.001000\n",
      "Iter   400 loss 41.415161 accuracy 0.29 lr 0.001000\n",
      "Iter   500 loss 42.942101 accuracy 0.27 lr 0.001000\n",
      "Iter   600 loss 43.443001 accuracy 0.28 lr 0.001000\n",
      "Iter   700 loss 42.212898 accuracy 0.31 lr 0.001000\n",
      "Iter   800 loss 35.968147 accuracy 0.30 lr 0.001000\n",
      "Iter   900 loss 36.324692 accuracy 0.31 lr 0.001000\n",
      "Iter  1000 loss 38.731407 accuracy 0.29 lr 0.001000\n",
      "Iter  1100 loss 38.452076 accuracy 0.30 lr 0.001000\n",
      "Iter  1200 loss 40.341217 accuracy 0.29 lr 0.001000\n",
      "Iter  1300 loss 44.459812 accuracy 0.29 lr 0.001000\n",
      "Epoch 5 loss 40.475936 accuracy 0.30 val_aer 0.99 val_acc 0.27\n",
      "Model saved in file: D:\\Userdata\\Sync\\universiteit\\MSc\\Jaar 1\\Natural Language Processing 2\\nlp2\\project 3\\model.ckpt\n",
      "Testset accuracy: 0.2680586175593308, AER: 0.9701138519924098\n"
     ]
    },
    {
     "data": {
      "image/png": "[encoded data removed]",
      "text/plain": [
       "<matplotlib.figure.Figure at 0x2173c164c18>"
      ]
     },
     "metadata": {},
     "output_type": "display_data"
    },
    {
     "data": {
      "image/png": "[encoded data removed]",
      "text/plain": [
       "<matplotlib.figure.Figure at 0x2184c1c6320>"
      ]
     },
     "metadata": {},
     "output_type": "display_data"
    },
    {
     "data": {
      "image/png": "[encoded data removed]",
      "text/plain": [
       "<matplotlib.figure.Figure at 0x2184c21be48>"
      ]
     },
     "metadata": {},
     "output_type": "display_data"
    }
   ],
   "source": [
    "# Run model task 4\n",
    "tf.reset_default_graph()\n",
    "\n",
    "with tf.Session() as sess:\n",
    "\n",
    "  print(\"Task 4\")\n",
    "  # some hyper-parameters\n",
    "  # tweak them as you wish\n",
    "  batch_size=128  # on CPU, use something much smaller e.g. 1-16\n",
    "  max_length=30\n",
    "  lr = 0.001\n",
    "  lr_decay = 0.0  # set to 0.0 when using Adam optimizer (default)\n",
    "  emb_dim = 64\n",
    "  mlp_dim = 128\n",
    "\n",
    "  stats_tracker = StatsTracker()\n",
    "  # our model\n",
    "  model = NeuralIBM1Model_T4(\n",
    "    x_vocabulary=vocabulary_e, y_vocabulary=vocabulary_f,\n",
    "    batch_size=batch_size, emb_dim=emb_dim, mlp_dim=mlp_dim, session=sess)\n",
    "\n",
    "  # our trainer\n",
    "  trainer = NeuralIBM1Trainer_T2_gate(\n",
    "    model, train_e_path, train_f_path,\n",
    "    dev_e_path, dev_f_path, dev_wa,\n",
    "    num_epochs=5, batch_size=batch_size,\n",
    "    max_length=max_length, lr=lr, lr_decay=lr_decay, session=sess)\n",
    "\n",
    "  # now first TF needs to initialize all the variables\n",
    "  print(\"Initializing variables..\")\n",
    "  sess.run(tf.global_variables_initializer())\n",
    "\n",
    "  # now we can start training!\n",
    "  print(\"Training started..\")\n",
    "  trainer.train(stats_tracker)\n",
    "    \n",
    "  test_aer, test_acc = trainer.model.evaluate(\n",
    "                test_corpus, test_wa)   \n",
    "  print(\"Testset accuracy: {}, AER: {}\".format(test_acc, test_aer))"
   ]
  }
 ],
 "metadata": {
  "kernelspec": {
   "display_name": "Python [Root]",
   "language": "python",
   "name": "Python [Root]"
  },
  "language_info": {
   "codemirror_mode": {
    "name": "ipython",
    "version": 3
   },
   "file_extension": ".py",
   "mimetype": "text/x-python",
   "name": "python",
   "nbconvert_exporter": "python",
   "pygments_lexer": "ipython3",
   "version": "3.5.2"
  }
 },
 "nbformat": 4,
 "nbformat_minor": 2
}
