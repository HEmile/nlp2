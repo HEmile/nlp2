{
 "cells": [
  {
   "cell_type": "markdown",
   "metadata": {},
   "source": [
    "# Neural IBM1 - Task 3"
   ]
  },
  {
   "cell_type": "code",
   "execution_count": 1,
   "metadata": {
    "collapsed": false
   },
   "outputs": [
    {
     "name": "stdout",
     "output_type": "stream",
     "text": [
      "Populating the interactive namespace from numpy and matplotlib\n"
     ]
    }
   ],
   "source": [
    "#imports\n",
    "import tensorflow as tf\n",
    "import numpy as np\n",
    "from pprint import pprint\n",
    "import pickle\n",
    "from statstracker import StatsTracker\n",
    "%pylab inline\n",
    "from utils import smart_reader, bitext_reader, iterate_minibatches, prepare_data\n",
    "from vocabulary import OrderedCounter, Vocabulary"
   ]
  },
  {
   "cell_type": "code",
   "execution_count": 2,
   "metadata": {
    "collapsed": true
   },
   "outputs": [],
   "source": [
    "#Get vocab\n",
    "train_e_path = 'data/training/hansards.36.2.e.gz'\n",
    "train_f_path = 'data/training/hansards.36.2.f.gz'\n",
    "dev_e_path = 'data/validation/dev.e.gz'\n",
    "dev_f_path = 'data/validation/dev.f.gz'\n",
    "dev_wa = 'data/validation/dev.wa.nonullalign'\n",
    "test_e_path = 'data/test/test.e.gz'\n",
    "test_f_path = 'data/test/test.f.gz'\n",
    "test_wa = 'data/test/test.wa.nonullalign'\n",
    "\n",
    "max_tokens=1000\n",
    "\n",
    "corpus_e = smart_reader(train_e_path)\n",
    "vocabulary_e = Vocabulary(corpus=corpus_e, max_tokens=max_tokens)\n",
    "# pickle.dump(vocabulary_e, open(\"vocabulary_e.pkl\", mode=\"wb\"))\n",
    "\n",
    "corpus_f = smart_reader(train_f_path)\n",
    "vocabulary_f = Vocabulary(corpus=corpus_f, max_tokens=max_tokens)\n",
    "# pickle.dump(vocabulary_f, open(\"vocabulary_f.pkl\", mode=\"wb\"))\n",
    "\n",
    "test_corpus = list(bitext_reader(\n",
    "            smart_reader(test_e_path),\n",
    "            smart_reader(test_f_path)))"
   ]
  },
  {
   "cell_type": "code",
   "execution_count": 3,
   "metadata": {
    "collapsed": true
   },
   "outputs": [],
   "source": [
    "#Get models for Task 3 \n",
    "from neuralibm1_T3_coll import NeuralIBM1Model_T3_coll\n",
    "\n",
    "# check neuralibm1trainer.py for the Trainer code\n",
    "from neuralibm1trainer import NeuralIBM1Trainer_T2_gate"
   ]
  },
  {
   "cell_type": "code",
   "execution_count": 4,
   "metadata": {
    "collapsed": false,
    "scrolled": false
   },
   "outputs": [
    {
     "name": "stdout",
     "output_type": "stream",
     "text": [
      "Task 3\n",
      "Training with B=128 max_length=30 lr=0.001 lr_decay=0.0\n",
      "Initializing variables..\n",
      "Training started..\n",
      "Shuffling training data\n",
      "Iter   100 loss 60.011608 accuracy 0.20 lr 0.001000\n",
      "Iter   200 loss 57.949551 accuracy 0.16 lr 0.001000\n",
      "Iter   300 loss 56.881042 accuracy 0.20 lr 0.001000\n",
      "Iter   400 loss 46.219051 accuracy 0.20 lr 0.001000\n",
      "Iter   500 loss 47.380383 accuracy 0.21 lr 0.001000\n",
      "Iter   600 loss 47.413383 accuracy 0.20 lr 0.001000\n",
      "Iter   700 loss 42.353462 accuracy 0.23 lr 0.001000\n",
      "Iter   800 loss 44.760185 accuracy 0.22 lr 0.001000\n",
      "Iter   900 loss 43.861183 accuracy 0.24 lr 0.001000\n",
      "Iter  1000 loss 39.202950 accuracy 0.25 lr 0.001000\n",
      "Iter  1100 loss 42.970612 accuracy 0.24 lr 0.001000\n",
      "Iter  1200 loss 39.995438 accuracy 0.28 lr 0.001000\n",
      "Iter  1300 loss 41.462845 accuracy 0.26 lr 0.001000\n",
      "Epoch 1 loss 47.882232 accuracy 0.22 val_aer 0.70 val_acc 0.21\n",
      "Model saved in file: C:\\Users\\Emile\\Dropbox\\Universiteit\\nlp2\\project 3\\model.ckpt\n",
      "Shuffling training data\n",
      "Iter   100 loss 41.948624 accuracy 0.26 lr 0.001000\n",
      "Iter   200 loss 38.108398 accuracy 0.27 lr 0.001000\n",
      "Iter   300 loss 41.462688 accuracy 0.27 lr 0.001000\n",
      "Iter   400 loss 44.323658 accuracy 0.27 lr 0.001000\n",
      "Iter   500 loss 42.704941 accuracy 0.27 lr 0.001000\n",
      "Iter   600 loss 37.538757 accuracy 0.27 lr 0.001000\n",
      "Iter   700 loss 42.604836 accuracy 0.26 lr 0.001000\n",
      "Iter   800 loss 38.361202 accuracy 0.26 lr 0.001000\n",
      "Iter   900 loss 43.454090 accuracy 0.25 lr 0.001000\n",
      "Iter  1000 loss 39.695774 accuracy 0.24 lr 0.001000\n",
      "Iter  1100 loss 40.090515 accuracy 0.27 lr 0.001000\n",
      "Iter  1200 loss 45.230209 accuracy 0.25 lr 0.001000\n",
      "Iter  1300 loss 35.119999 accuracy 0.28 lr 0.001000\n",
      "Epoch 2 loss 40.558808 accuracy 0.26 val_aer 0.64 val_acc 0.23\n",
      "Model saved in file: C:\\Users\\Emile\\Dropbox\\Universiteit\\nlp2\\project 3\\model.ckpt\n",
      "Shuffling training data\n",
      "Iter   100 loss 38.848625 accuracy 0.28 lr 0.001000\n",
      "Iter   200 loss 38.210564 accuracy 0.27 lr 0.001000\n",
      "Iter   300 loss 42.152393 accuracy 0.27 lr 0.001000\n",
      "Iter   400 loss 35.146019 accuracy 0.28 lr 0.001000\n",
      "Iter   500 loss 42.466743 accuracy 0.28 lr 0.001000\n",
      "Iter   600 loss 41.141777 accuracy 0.27 lr 0.001000\n",
      "Iter   700 loss 34.094368 accuracy 0.29 lr 0.001000\n",
      "Iter   800 loss 40.334724 accuracy 0.27 lr 0.001000\n",
      "Iter   900 loss 38.459900 accuracy 0.29 lr 0.001000\n",
      "Iter  1000 loss 35.928322 accuracy 0.28 lr 0.001000\n",
      "Iter  1100 loss 43.988400 accuracy 0.27 lr 0.001000\n",
      "Iter  1200 loss 40.020943 accuracy 0.26 lr 0.001000\n",
      "Iter  1300 loss 37.401218 accuracy 0.29 lr 0.001000\n",
      "Epoch 3 loss 39.377373 accuracy 0.27 val_aer 0.56 val_acc 0.22\n",
      "Model saved in file: C:\\Users\\Emile\\Dropbox\\Universiteit\\nlp2\\project 3\\model.ckpt\n",
      "Shuffling training data\n",
      "Iter   100 loss 43.391350 accuracy 0.26 lr 0.001000\n",
      "Iter   200 loss 37.388824 accuracy 0.27 lr 0.001000\n",
      "Iter   300 loss 43.960148 accuracy 0.27 lr 0.001000\n",
      "Iter   400 loss 42.266453 accuracy 0.27 lr 0.001000\n",
      "Iter   500 loss 37.002151 accuracy 0.28 lr 0.001000\n",
      "Iter   600 loss 36.884972 accuracy 0.29 lr 0.001000\n",
      "Iter   700 loss 38.409504 accuracy 0.26 lr 0.001000\n",
      "Iter   800 loss 41.635365 accuracy 0.27 lr 0.001000\n",
      "Iter   900 loss 41.095520 accuracy 0.27 lr 0.001000\n",
      "Iter  1000 loss 39.360184 accuracy 0.27 lr 0.001000\n",
      "Iter  1100 loss 39.861130 accuracy 0.29 lr 0.001000\n",
      "Iter  1200 loss 36.616959 accuracy 0.27 lr 0.001000\n",
      "Iter  1300 loss 37.869164 accuracy 0.28 lr 0.001000\n",
      "Epoch 4 loss 38.928807 accuracy 0.28 val_aer 0.55 val_acc 0.23\n",
      "Model saved in file: C:\\Users\\Emile\\Dropbox\\Universiteit\\nlp2\\project 3\\model.ckpt\n",
      "Shuffling training data\n",
      "Iter   100 loss 41.149788 accuracy 0.26 lr 0.001000\n",
      "Iter   200 loss 34.538689 accuracy 0.29 lr 0.001000\n",
      "Iter   300 loss 40.340981 accuracy 0.29 lr 0.001000\n",
      "Iter   400 loss 37.441624 accuracy 0.29 lr 0.001000\n",
      "Iter   500 loss 40.460541 accuracy 0.26 lr 0.001000\n",
      "Iter   600 loss 36.100281 accuracy 0.28 lr 0.001000\n",
      "Iter   700 loss 37.142315 accuracy 0.27 lr 0.001000\n",
      "Iter   800 loss 38.583485 accuracy 0.26 lr 0.001000\n",
      "Iter   900 loss 40.180355 accuracy 0.29 lr 0.001000\n",
      "Iter  1000 loss 35.682114 accuracy 0.28 lr 0.001000\n",
      "Iter  1100 loss 33.420052 accuracy 0.29 lr 0.001000\n",
      "Iter  1200 loss 44.626823 accuracy 0.25 lr 0.001000\n",
      "Iter  1300 loss 36.838696 accuracy 0.29 lr 0.001000\n",
      "Epoch 5 loss 38.688228 accuracy 0.28 val_aer 0.54 val_acc 0.25\n",
      "Model saved in file: C:\\Users\\Emile\\Dropbox\\Universiteit\\nlp2\\project 3\\model.ckpt\n",
      "Testset accuracy: 0.25392296718972895, AER: 0.5454701294248736\n"
     ]
    },
    {
     "data": {
      "image/png": "[encoded data removed]",
      "text/plain": [
       "<matplotlib.figure.Figure at 0x2175e4f4550>"
      ]
     },
     "metadata": {},
     "output_type": "display_data"
    },
    {
     "data": {
      "image/png": "[encoded data removed]",
      "text/plain": [
       "<matplotlib.figure.Figure at 0x217da841048>"
      ]
     },
     "metadata": {},
     "output_type": "display_data"
    },
    {
     "data": {
      "image/png": "[encoded data removed]",
      "text/plain": [
       "<matplotlib.figure.Figure at 0x217da8d1240>"
      ]
     },
     "metadata": {},
     "output_type": "display_data"
    }
   ],
   "source": [
    "# Run model task 3\n",
    "tf.reset_default_graph()\n",
    "\n",
    "with tf.Session() as sess:\n",
    "\n",
    "  print(\"Task 3\")\n",
    "  # some hyper-parameters\n",
    "  # tweak them as you wish\n",
    "  batch_size=128  # on CPU, use something much smaller e.g. 1-16\n",
    "  max_length=30\n",
    "  lr = 0.001\n",
    "  lr_decay = 0.0  # set to 0.0 when using Adam optimizer (default)\n",
    "  emb_dim = 64\n",
    "  mlp_dim = 128\n",
    "\n",
    "  stats_tracker = StatsTracker()\n",
    "  # our model\n",
    "  model = NeuralIBM1Model_T3_coll(\n",
    "    x_vocabulary=vocabulary_e, y_vocabulary=vocabulary_f,\n",
    "    batch_size=batch_size, emb_dim=emb_dim, mlp_dim=mlp_dim, session=sess)\n",
    "\n",
    "  # our trainer\n",
    "  trainer = NeuralIBM1Trainer_T2_gate(\n",
    "    model, train_e_path, train_f_path,\n",
    "    dev_e_path, dev_f_path, dev_wa,\n",
    "    num_epochs=5, batch_size=batch_size,\n",
    "    max_length=max_length, lr=lr, lr_decay=lr_decay, session=sess)\n",
    "\n",
    "  # now first TF needs to initialize all the variables\n",
    "  print(\"Initializing variables..\")\n",
    "  sess.run(tf.global_variables_initializer())\n",
    "\n",
    "  # now we can start training!\n",
    "  print(\"Training started..\")\n",
    "  trainer.train(stats_tracker)\n",
    "    \n",
    "  test_aer, test_acc = trainer.model.evaluate(\n",
    "                test_corpus, test_wa)   \n",
    "  print(\"Testset accuracy: {}, AER: {}\".format(test_acc, test_aer))"
   ]
  },
  {
   "cell_type": "code",
   "execution_count": null,
   "metadata": {
    "collapsed": true
   },
   "outputs": [],
   "source": []
  }
 ],
 "metadata": {
  "kernelspec": {
   "display_name": "Python [Root]",
   "language": "python",
   "name": "Python [Root]"
  },
  "language_info": {
   "codemirror_mode": {
    "name": "ipython",
    "version": 3
   },
   "file_extension": ".py",
   "mimetype": "text/x-python",
   "name": "python",
   "nbconvert_exporter": "python",
   "pygments_lexer": "ipython3",
   "version": "3.5.2"
  }
 },
 "nbformat": 4,
 "nbformat_minor": 2
}
